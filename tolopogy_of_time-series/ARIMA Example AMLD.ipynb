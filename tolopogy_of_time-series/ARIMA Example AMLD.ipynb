{
 "cells": [
  {
   "cell_type": "code",
   "execution_count": 1,
   "id": "e39ab928",
   "metadata": {},
   "outputs": [],
   "source": [
    "#import relevant packages\n",
    "#from statsmodels.tsa.arima.model import ARIMA\n",
    "from statsmodels.tsa.arima_model import ARIMA\n",
    "from matplotlib import pyplot\n",
    "import pandas as pd"
   ]
  },
  {
   "cell_type": "code",
   "execution_count": null,
   "id": "6bb067dc",
   "metadata": {},
   "outputs": [],
   "source": [
    "!pip install --upgrade --user statsmodels"
   ]
  },
  {
   "cell_type": "code",
   "execution_count": null,
   "id": "6d02ede6",
   "metadata": {},
   "outputs": [],
   "source": [
    "#import datasets\n",
    "#Casablanca=pd.read_csv('C:/users/njfar/OneDrive/Desktop/Morocco_Stocks.csv')\n",
    "#Johannesburg=pd.read_csv('C:/users/njfar/OneDrive/Desktop/JSE_Stock.csv')\n",
    "Johannesburg=pd.read_csv('JSE_Stock.csv')"
   ]
  },
  {
   "cell_type": "code",
   "execution_count": null,
   "id": "d6f1710c",
   "metadata": {},
   "outputs": [],
   "source": [
    "#create ARIMA models for both datasets\n",
    "#order parameters:\n",
    "#p: lag observation number for autoregression calculation\n",
    "#d: number of times to apply differences to time series (corrects\n",
    "#stationarity issues)\n",
    "#q: window size for moving average\n",
    "\n",
    "\n",
    "#model_c=ARIMA(Casablanca.iloc[:,1],order=(2,6,1))\n",
    "model_j=ARIMA(Johannesburg.iloc[:,1],order=(3,4,1))\n",
    "#model_fit_c=model_c.fit()\n",
    "model_fit_j=model_j.fit()"
   ]
  },
  {
   "cell_type": "code",
   "execution_count": null,
   "id": "edf8333a",
   "metadata": {},
   "outputs": [],
   "source": [
    "#examine Casablanca ARIMA model fit\n",
    "model_fit_c.summary()"
   ]
  },
  {
   "cell_type": "code",
   "execution_count": null,
   "id": "f5ff7c92",
   "metadata": {},
   "outputs": [],
   "source": [
    "#examine residuals of Casablanca model\n",
    "res_c=pd.DataFrame(model_fit_c.resid)\n",
    "res_c.plot()\n",
    "pyplot.show()"
   ]
  },
  {
   "cell_type": "code",
   "execution_count": null,
   "id": "cfca34f2",
   "metadata": {},
   "outputs": [],
   "source": [
    "#examine Johannesburg ARIMA model fit\n",
    "model_fit_j.summary()"
   ]
  },
  {
   "cell_type": "code",
   "execution_count": null,
   "id": "b0cd7c40",
   "metadata": {},
   "outputs": [],
   "source": [
    "#examine residuals of Johannesburg model\n",
    "res_j=pd.DataFrame(model_fit_j.resid)\n",
    "res_j.plot()\n",
    "pyplot.show()"
   ]
  },
  {
   "cell_type": "code",
   "execution_count": null,
   "id": "9dad67f4",
   "metadata": {},
   "outputs": [],
   "source": [
    "#predict next 2 days' prices for Casablanca and Johannesburg stock values\n",
    "print(model_fit_c.forecast(2)) #\n",
    "print(model_fit_j.forecast(2)) #64170, 63627"
   ]
  },
  {
   "cell_type": "code",
   "execution_count": null,
   "id": "49df6688",
   "metadata": {},
   "outputs": [],
   "source": [
    "#model does not accurately find dips and spikes, as Johannesburg's\n",
    "#performance on October 10 and 11 (next two time points) shows (strong dip)"
   ]
  },
  {
   "cell_type": "code",
   "execution_count": null,
   "id": "02c20d69",
   "metadata": {},
   "outputs": [],
   "source": []
  }
 ],
 "metadata": {
  "kernelspec": {
   "display_name": "Python 3",
   "language": "python",
   "name": "python3"
  },
  "language_info": {
   "codemirror_mode": {
    "name": "ipython",
    "version": 3
   },
   "file_extension": ".py",
   "mimetype": "text/x-python",
   "name": "python",
   "nbconvert_exporter": "python",
   "pygments_lexer": "ipython3",
   "version": "3.7.4"
  }
 },
 "nbformat": 4,
 "nbformat_minor": 5
}
